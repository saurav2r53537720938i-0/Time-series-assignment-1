{
 "cells": [
  {
   "cell_type": "markdown",
   "id": "0fa1ebee-04ba-4c7b-88df-b7cb501fdb47",
   "metadata": {},
   "source": [
    "A time series is a sequences of data points measured at sucessive time intervals common applications of time series  anyalyse include forecasting future values detecting trends and patterns analyzing seasonal variations and modeling  the bheviour of complex system like finacial markets weather patterns and stock prices"
   ]
  },
  {
   "cell_type": "markdown",
   "id": "d76e9b0b-74be-4197-9d76-05038ba4e859",
   "metadata": {},
   "source": [
    "Common time series patterns include trend,seasionally cyclical variations and irregular flucations trends show long term change in data seasionablity indicates reccuring patterns within a fixed time period cyclical variations reprsentt perodic flucations not are random variations or noise.These patterns can be identified and interpreted using various techniques such as visual inspection of plots statiscal method like decpostion or autocorrelation anayalsis and time series models like ARMA or expontetial smoothing "
   ]
  },
  {
   "cell_type": "markdown",
   "id": "31f0fd71-5b13-46c2-b0c9-58035cdd9c0a",
   "metadata": {},
   "source": [
    "Before applying analysis technique to time-series data it essential to preprocess the data to ensure its quality and suitablity for anaylysis some commoon pre processing steps include:\n",
    "1. Handling missing value \n",
    "2. resampling \n",
    "3. Detrending\n",
    "4. Differencing\n",
    "5. smoothing\n",
    "6. Normalization or scaling\n",
    "7. Outlier detection and removal\n",
    "8. Decompostion"
   ]
  },
  {
   "cell_type": "markdown",
   "id": "bdf321f8-c99a-4cc5-82f0-0070afa93e48",
   "metadata": {},
   "source": [
    "Time series forecasting is invaluable for business decsion making as it helps in predcting future trends based on past data :\n",
    "1. Demand Forecasting\n",
    "2. Finacial Planning\n",
    "3. Resource allocation\n",
    "4. Marketing stragey\n",
    "5. Risk Management\n",
    "However some common challenge and limitations include:\n",
    "1. Data quality\n",
    "2. complexity\n",
    "3. Seasionality and trends \n",
    "4. Model slection\n",
    "5. Uncertanity "
   ]
  },
  {
   "cell_type": "markdown",
   "id": "5cdaa3e3-1129-4cb4-99d7-c01db5a63f64",
   "metadata": {},
   "source": [
    "ARIMA modeling is a popular tiime series anyalsysis technique used to forecast future value based on past observation it combines autoregression differencing and moving average components to capture patterns and trends in the data:\n",
    "1. Autoregression\n",
    "2. Differencing\n",
    "3. Moving Average\n",
    "ARIMA models are particularly useful for time series data with trends and seasionality they can be used to forecastt future values"
   ]
  },
  {
   "cell_type": "markdown",
   "id": "7eaf7680-213a-4f00-a515-b4c439d31f63",
   "metadata": {},
   "source": [
    "Autocorrelation function and partial autocorrelation function and partial autocorrelation function plots are commonly used in time series anyalse to identify the order of ARIMA models here how they help\n",
    "1. Autocorrelation function(ACF)\n",
    "2. Partial autocorrelation function\n",
    "By examining the ACF and PACF plots together analyst can identify the apporpriate order for the ARIMA the order can then be used to fit the ARIMA model to the times series data for forecasting or anylysis"
   ]
  },
  {
   "cell_type": "markdown",
   "id": "aeb7673c-eca3-48e2-87eb-da2de78963a0",
   "metadata": {},
   "source": [
    "Some limitations of time series anylyse include:\n",
    "1. Assumption of stationary\n",
    "2. Senstvity to outliers\n",
    "3. Limited Predictive power\n",
    "4. Data quality and missing values\n",
    "5. Diffculty in handling seasionality and trends\n",
    "In scenraios where historical data is highly consant such as in manfacturing process with stable production condtions and minimaal external influences time series analyse can be highly effective for forcastingg future production levels or detecting anomalies in such case the data may exhbit strong statinarity makingg it easier to apply time series techniques with confidence"
   ]
  },
  {
   "cell_type": "code",
   "execution_count": null,
   "id": "e2c435ab-5ff7-481f-86b1-235c51365743",
   "metadata": {},
   "outputs": [],
   "source": []
  }
 ],
 "metadata": {
  "kernelspec": {
   "display_name": "Python 3 (ipykernel)",
   "language": "python",
   "name": "python3"
  },
  "language_info": {
   "codemirror_mode": {
    "name": "ipython",
    "version": 3
   },
   "file_extension": ".py",
   "mimetype": "text/x-python",
   "name": "python",
   "nbconvert_exporter": "python",
   "pygments_lexer": "ipython3",
   "version": "3.10.8"
  }
 },
 "nbformat": 4,
 "nbformat_minor": 5
}
